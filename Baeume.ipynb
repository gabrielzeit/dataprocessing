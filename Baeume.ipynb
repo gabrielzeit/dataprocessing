{
 "cells": [
  {
   "cell_type": "markdown",
   "metadata": {
    "slideshow": {
     "slide_type": "slide"
    }
   },
   "source": [
    "<section class=\"title-slide\">\n",
    "\n",
    "<section class=\"title-title\">\n",
    "\n",
    "<h1>Block 4: Baumstrukturen</h1>\n",
    "    \n",
    "**Algorithmisches Denken und Programmierung**  \n",
    "**Grundzüge der Programmierung**\n",
    "\n",
    "</section>\n",
    "\n",
    "</section>\n",
    "\n",
    "Sebastian Neumaier, [sebastian.neumaier@wu.ac.at](mailto:sebastian.neumaier@wu.ac.at)  \n",
    "Stefan Sobernig, [stefan.sobernig@wu.ac.at](mailto:stefan.sobernig@wu.ac.at)"
   ]
  },
  {
   "cell_type": "markdown",
   "metadata": {},
   "source": [
    "## *Exkurs:* Rekursion"
   ]
  },
  {
   "cell_type": "markdown",
   "metadata": {},
   "source": [
    "* Eine Funktion `m()` heißt **rekursiv**, wenn sie sich selbst aufruft\n",
    "  * *direkt rekursiv:*  Funktion m ruft sich selbst direkt auf   \n",
    "    `m()`$\\Rightarrow$`m()` \n",
    "    \n",
    "  * *indirekt rekursiv:* Funktion m ruft n auf, welche wiederum m aufruft  \n",
    "  `m()`$\\Rightarrow$ `n()` $\\Rightarrow$`m()`\n",
    "  \n",
    "* **Basisfall:** Der einfache Fall, für welchen Ergebnis sofort bekannt\n",
    "* **Rekursiver Aufruf:** \n",
    "  * Rekursiver Aufruf verkleinert das Problem schrittweise indem ein Teil gelöst wird\n",
    "  * Für das Restproblem wird die Funktion rekursiv aufgerufen"
   ]
  },
  {
   "cell_type": "markdown",
   "metadata": {},
   "source": [
    "### Beispiel: Berechnung des Faktoriellen einer natürlichen Zahl\n",
    "\n",
    "Die Fakultät einer Zahl $n \\in \\mathbb{N}$ ist definiert durch\n",
    "* $0! = 1$ und\n",
    "* $n! = n * (n - 1) ... 2 * 1$ für alle $n \\in \\mathbb{N}$ mit $n > 0$\n",
    "\n",
    "Z.B.: $5! = 120$, denn $5! = 5 * 4 * 3 * 2 * 1$\n",
    "\n",
    "**Rekursive Definition der Fakultät:**\n",
    "\n",
    "  $0! = 1$  \n",
    "  $n! = n * ((n - 1)!)$ für alle $n \\in \\mathbb{N}$ mit $n > 0$\n",
    "\n",
    "\n",
    "Z.B.: $5! = 5 * 4! = 5 * 4 * 3! = 5 * 4 * 3 * 2! = 5 * 4 * 3 * 2 * 1! =\n",
    "5 * 4 * 3 * 2 * 1 * 0! = 5 * 4 * 3 * 2 * 1 * 1 = ... = 120$"
   ]
  },
  {
   "cell_type": "markdown",
   "metadata": {},
   "source": [
    "# Baumstrukturen"
   ]
  },
  {
   "cell_type": "markdown",
   "metadata": {
    "slideshow": {
     "slide_type": "slide"
    }
   },
   "source": [
    "## Begriffe und Konzepte\n",
    "\n",
    "* **Baum:** Menge von **Knoten** und **Kanten**\n",
    "* **Wurzel:** *ausgewählter* Knoten\n",
    "* *Genau eine* Kante zwischen **Eltern-** und **Kindknoten**\n",
    "* **Blatt:** Knoten ohne Kind\n",
    "* **Pfad:** Folge von durch Kanten verbundene Knoten\n",
    "\n",
    "![alt text](figures/baum.jpg)"
   ]
  },
  {
   "cell_type": "markdown",
   "metadata": {
    "slideshow": {
     "slide_type": "fragment"
    }
   },
   "source": [
    "**Definition:**  \n",
    "\n",
    "*Zusammenhängend* und enthält *keinen Kreis* $\\Longleftrightarrow$ Zwischen je zwei Knoten *genau einen Pfad*"
   ]
  },
  {
   "cell_type": "markdown",
   "metadata": {
    "slideshow": {
     "slide_type": "slide"
    }
   },
   "source": [
    "## Begriffe und Konzepte (2)\n",
    "\n",
    "* **Niveau:** Länge des Pfades von der Wurzel zu Knoten $k$\n",
    "* **Höhe:** Größtes Niveau plus 1\n",
    "\n",
    "* **N-ärer Baum:** Jeder Knoten besitzt $n$ direkte Kinder\n",
    "* **Geordneter Baum:** Reihenfolge der Kinder ist festgelegt\n",
    "* **Binärer Baum:** *Geordneter* Baum mit *maximal zwei Kindern*\n",
    "\n",
    "\n",
    "![alt text](figures/BaumNiveau.jpg)\n",
    "<i>Abbildung: Baum der Höhe 4</i>"
   ]
  },
  {
   "cell_type": "markdown",
   "metadata": {
    "slideshow": {
     "slide_type": "slide"
    }
   },
   "source": [
    "## Traversierung von Binären Bäumen\n",
    "\n",
    "**Traversierung:** Systematisches Abarbeiten/Durchlaufen aller Knoten\n",
    "\n",
    "* Bezeichnet das Durchlaufen des Baumes\n",
    "* Mehrere Strategien möglich; [hier ein Tutorial, in dem die 4 Traversierungsarten im Detail erklärt wird](https://youtu.be/5X8CkFBq_8k?t=45)"
   ]
  },
  {
   "cell_type": "markdown",
   "metadata": {},
   "source": [
    "\n",
    "**Beispiel-Baum mit 7 Knoten:**\n",
    "    \n",
    "<center><img src=\"figures/BinaerBaum.jpg\"/></center>"
   ]
  },
  {
   "cell_type": "markdown",
   "metadata": {
    "slideshow": {
     "slide_type": "slide"
    }
   },
   "source": [
    "### Inorder\n",
    "\n",
    "*zuerst wird linker Teilbaum durchlaufen, dann der Knoten, anschließend der rechte Teilbaum:*"
   ]
  },
  {
   "cell_type": "markdown",
   "metadata": {
    "slideshow": {
     "slide_type": "fragment"
    }
   },
   "source": [
    "$D \\rightarrow B \\rightarrow E \\rightarrow A \\rightarrow F \\rightarrow C \\rightarrow G$\n"
   ]
  },
  {
   "cell_type": "markdown",
   "metadata": {
    "slideshow": {
     "slide_type": "slide"
    }
   },
   "source": [
    "### Preorder\n",
    "\n",
    "*zuerst wird Knoten selbst besucht, anschließend der linke Teilbaum durchlaufen, dann der rechte Teilbaum:*"
   ]
  },
  {
   "cell_type": "markdown",
   "metadata": {
    "slideshow": {
     "slide_type": "fragment"
    }
   },
   "source": [
    "$A \\rightarrow B \\rightarrow D \\rightarrow E \\rightarrow C \\rightarrow F \\rightarrow G$\n"
   ]
  },
  {
   "cell_type": "markdown",
   "metadata": {
    "slideshow": {
     "slide_type": "slide"
    }
   },
   "source": [
    "### Postorder\n",
    "\n",
    "*zuerst werden beiden Teilbäume durchlaufen, anschließend der Knoten selbst besucht:*"
   ]
  },
  {
   "cell_type": "markdown",
   "metadata": {
    "slideshow": {
     "slide_type": "fragment"
    }
   },
   "source": [
    "$D \\rightarrow E \\rightarrow B \\rightarrow F \\rightarrow G \\rightarrow C \\rightarrow A$\n"
   ]
  },
  {
   "cell_type": "markdown",
   "metadata": {
    "slideshow": {
     "slide_type": "slide"
    }
   },
   "source": [
    "### Levelorder\n",
    "\n",
    "*es wird jedes Niveau durchlaufen bevor es in der Tiefe zum nächsten Niveau geht:*"
   ]
  },
  {
   "cell_type": "markdown",
   "metadata": {
    "slideshow": {
     "slide_type": "fragment"
    }
   },
   "source": [
    "$A \\rightarrow B \\rightarrow C \\rightarrow D \\rightarrow E \\rightarrow F \\rightarrow G$\n"
   ]
  },
  {
   "cell_type": "markdown",
   "metadata": {
    "slideshow": {
     "slide_type": "slide"
    }
   },
   "source": [
    "## Binäre Suchbäume\n",
    "\n",
    "* Der aktuelle Knoten `k` enthält Schlüsselwert `k.key` \n",
    "* Alle Schlüsselwerte im linken Teilbaum `k.left` sind kleiner als `k.key`\n",
    "* Alle Schlüsselwerte im rechten Teilbaum `k.right` sind größer als `k.key`\n",
    "* Der Wurzelknoten heißt `root`\n"
   ]
  },
  {
   "cell_type": "markdown",
   "metadata": {},
   "source": [
    "<center><img src=\"figures/Trees_ex.jpg\"/></center>"
   ]
  },
  {
   "cell_type": "markdown",
   "metadata": {
    "slideshow": {
     "slide_type": "slide"
    }
   },
   "source": [
    "### Suchen\n",
    "\n",
    "*Rekursiver Algorithmus*\n",
    "\n",
    "**Wiederhole bis gesuchter Wert gefunden:**\n",
    "* Ist der gesuchte Wert gleich dem aktuellen Knoten (anfangs: root)?\n",
    "  * $\\rightarrow$ **gesuchte Wert wurde gefunden**\n",
    "* Ist gesuchte Wert kleiner als der aktuellen Knoten, und der aktuellen Knoten hat einen linken Nachfolger?\n",
    "  * $\\rightarrow$ **aktuellen Knoten** ist jetzt **linker Nachfolger**\n",
    "* Ist der gesuchte Wert größer als der aktuellen Knoten, und der aktuellen Knoten hat einen rechten Nachfolger?\n",
    "  * $\\rightarrow$ **aktuellen Knoten** ist jetzt **rechter Nachfolger**\n",
    "\n",
    "Falls der Wert nicht gefunden wird (oder kein Nachfolger enthalten), ist der gesuchte Wert nicht im Baum enthalten.\n",
    "\n"
   ]
  },
  {
   "cell_type": "markdown",
   "metadata": {
    "slideshow": {
     "slide_type": "slide"
    }
   },
   "source": [
    "### Einfügen"
   ]
  },
  {
   "cell_type": "markdown",
   "metadata": {},
   "source": [
    "* Zunächst muss korrekte Einfügeposition für neuen Knoten `k` gefunden werden: **Suche nach einzufügendem Wert**\n",
    "* `k` wird an der erwarteten (*\"nicht gefundenen\"*) Position eingefügt\n",
    "* Falls Baum leer ist wird `k` die neue Wurzel"
   ]
  },
  {
   "cell_type": "markdown",
   "metadata": {},
   "source": [
    "<center><img src=\"figures/Trees_einfuegen.jpg\"/></center>"
   ]
  },
  {
   "cell_type": "markdown",
   "metadata": {
    "slideshow": {
     "slide_type": "slide"
    }
   },
   "source": [
    "### Löschen"
   ]
  },
  {
   "cell_type": "markdown",
   "metadata": {},
   "source": [
    "3 mögliche Fälle:\n",
    "\n",
    "* **Knoten `k` ist ein Blatt:**  \n",
    "  Einfachster Fall: es wird der Knoten einfach gelöscht, d.h. der Verweis von Elternknoten auf Knoten `k` entfernt \n",
    "* **Knoten `k` besitzt nur einen Kindknoten:**  \n",
    "  Hier ist der Kindknoten auf den Elternknoten umzulenken, d.h. der Verweis wird vom Elternknoten auf den Kindknoten von `k` umgelenkt\n",
    "* **Knoten `k` ist ein innerer Knoten mit zwei Kindknoten:**  \n",
    "  Hier muss der Knoten durch den am weitesten links stehenden Knoten des rechten Teilbaumes ersetzt werden. Alternativ kann auch der am weitestens rechts stehende Knoten des linken Teilbaumes verwendet werden.  \n",
    "  **Siehe Abbildung:** 3 wird gelöscht und durch 4 ersetzt; Sortierung wird dadurch erhalten "
   ]
  },
  {
   "cell_type": "markdown",
   "metadata": {},
   "source": [
    "<center><img src=\"figures/Trees_loeschen.jpg\"/></center>"
   ]
  },
  {
   "cell_type": "markdown",
   "metadata": {
    "slideshow": {
     "slide_type": "slide"
    }
   },
   "source": [
    "### Komplexität der Operationen"
   ]
  },
  {
   "cell_type": "markdown",
   "metadata": {},
   "source": [
    "* Für die jede Operation (*Suchen, Einfügen, Löschen*) wird jeweils nur der Pfad von der Wurzel bis zum entsprechenden Knoten durchlaufen\n",
    "* **Aufwand** der Operation wird also durch **Höhe des Baums** bestimmt\n",
    "* Komplexität ist also durch die maximale Höhe $h$ bestimmt: Im schlechtesten Fall $h$ Schritte"
   ]
  },
  {
   "cell_type": "markdown",
   "metadata": {
    "slideshow": {
     "slide_type": "slide"
    }
   },
   "source": [
    "## Referenzen\n",
    "\n",
    "* Gunter Saake und Kai-Uwe Sattler (2014): „Algorithmen und Datenstrukturen“, 5. Ausgabe, dpunkt.verlag, Abschnitte 14.1, 14.2.2, 14.3, 14.3.3\n"
   ]
  }
 ],
 "metadata": {
  "celltoolbar": "Slideshow",
  "kernelspec": {
   "display_name": "Python 3",
   "language": "python",
   "name": "python3"
  },
  "language_info": {
   "codemirror_mode": {
    "name": "ipython",
    "version": 3
   },
   "file_extension": ".py",
   "mimetype": "text/x-python",
   "name": "python",
   "nbconvert_exporter": "python",
   "pygments_lexer": "ipython3",
   "version": "3.6.9"
  }
 },
 "nbformat": 4,
 "nbformat_minor": 4
}
